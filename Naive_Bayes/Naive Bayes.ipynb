{
 "cells": [
  {
   "cell_type": "code",
   "execution_count": 1,
   "id": "445e54b0",
   "metadata": {},
   "outputs": [
    {
     "name": "stdout",
     "output_type": "stream",
     "text": [
      "No. of Chris training emails :  7936\n",
      "No. of Sara training emails :  7884\n",
      "Start training\n",
      "training time: 0.727 s\n",
      "start predicting\n",
      "predict time: 0.054 s\n",
      "Calculating accuracy\n",
      "Accuracy calculated, and the accuracy is 0.9732650739476678\n"
     ]
    },
    {
     "data": {
      "text/plain": [
       "'\\nYou Will be Required to record time for Training and Predicting \\nThe Code Given on Udacity Website is in Python-2\\nThe Following Code is Python-3 version of the same code\\n'"
      ]
     },
     "execution_count": 1,
     "metadata": {},
     "output_type": "execute_result"
    }
   ],
   "source": [
    "#!/usr/bin/python3\n",
    "\n",
    "\"\"\" \n",
    "    This is the code to accompany the Lesson 1 (Naive Bayes) mini-project. \n",
    "\n",
    "    Use a Naive Bayes Classifier to identify emails by their authors\n",
    "    \n",
    "    authors and labels:\n",
    "    Sara has label 0\n",
    "    Chris has label 1\n",
    "\"\"\"\n",
    "    \n",
    "import sys\n",
    "from time import time\n",
    "sys.path.append(\"../Naive_Bayes/\")\n",
    "from email_preprocess import preprocess\n",
    "\n",
    "\n",
    "### features_train and features_test are the features for the training\n",
    "### and testing datasets, respectively\n",
    "### labels_train and labels_test are the corresponding item labels\n",
    "features_train, features_test, labels_train, labels_test = preprocess()\n",
    "\n",
    "\n",
    "##############################################################\n",
    "# Enter Your Code Here\n",
    "#def classify(features_train, labels_train): \n",
    "    \n",
    "from sklearn.naive_bayes import GaussianNB\n",
    "print(\"Start training\")\n",
    "t0 = time()\n",
    "classify = GaussianNB()\n",
    "classify.fit(features_train, labels_train)\n",
    "print(\"training time:\", round(time() - t0, 3), \"s\")\n",
    "\n",
    "print(\"start predicting\")\n",
    "t0 = time()\n",
    "pred = classify.predict(features_test)\n",
    "print(\"predict time:\", round(time() - t0, 3), \"s\")\n",
    "\n",
    "\n",
    "# accuracy\n",
    "print(\"Calculating accuracy\")\n",
    "from sklearn.metrics import accuracy_score\n",
    "accuracy = accuracy_score(pred, labels_test)\n",
    "print(\"Accuracy calculated, and the accuracy is\", accuracy)\n",
    "\n",
    "\n",
    "\n",
    "##############################################################\n",
    "\n",
    "##############################################################\n",
    "'''\n",
    "You Will be Required to record time for Training and Predicting \n",
    "The Code Given on Udacity Website is in Python-2\n",
    "The Following Code is Python-3 version of the same code\n",
    "'''\n",
    "\n",
    "# t0 = time()\n",
    "# # < your clf.fit() line of code >\n",
    "# print(\"Training Time:\", round(time()-t0, 3), \"s\")\n",
    "\n",
    "# t0 = time()\n",
    "# # < your clf.predict() line of code >\n",
    "# print(\"Predicting Time:\", round(time()-t0, 3), \"s\")\n",
    "\n",
    "##############################################################"
   ]
  },
  {
   "cell_type": "code",
   "execution_count": null,
   "id": "cb1b00da",
   "metadata": {},
   "outputs": [],
   "source": []
  }
 ],
 "metadata": {
  "kernelspec": {
   "display_name": "Python 3 (ipykernel)",
   "language": "python",
   "name": "python3"
  },
  "language_info": {
   "codemirror_mode": {
    "name": "ipython",
    "version": 3
   },
   "file_extension": ".py",
   "mimetype": "text/x-python",
   "name": "python",
   "nbconvert_exporter": "python",
   "pygments_lexer": "ipython3",
   "version": "3.9.12"
  }
 },
 "nbformat": 4,
 "nbformat_minor": 5
}
